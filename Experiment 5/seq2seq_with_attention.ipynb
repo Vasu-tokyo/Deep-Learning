{
  "nbformat": 4,
  "nbformat_minor": 0,
  "metadata": {
    "colab": {
      "provenance": [],
      "gpuType": "T4"
    },
    "kernelspec": {
      "name": "python3",
      "display_name": "Python 3"
    },
    "language_info": {
      "name": "python"
    },
    "accelerator": "GPU"
  },
  "cells": [
    {
      "cell_type": "code",
      "source": [
        "\n",
        "!pip install nltk\n",
        "import torch\n",
        "import torch.nn as nn\n",
        "import torch.optim as optim\n",
        "from torch.utils.data import Dataset, DataLoader\n",
        "from collections import Counter\n",
        "import re\n",
        "import numpy as np\n",
        "import random\n",
        "from sklearn.model_selection import train_test_split\n",
        "import matplotlib.pyplot as plt\n",
        "import seaborn as sns\n",
        "from nltk.translate.bleu_score import sentence_bleu, SmoothingFunction\n",
        "import nltk\n",
        "\n",
        "nltk.download('punkt')\n",
        "device = torch.device(\"cuda\" if torch.cuda.is_available() else \"cpu\")\n"
      ],
      "metadata": {
        "colab": {
          "base_uri": "https://localhost:8080/"
        },
        "id": "DC0rIS_-bonz",
        "outputId": "76052e46-d550-4462-c7d7-52b7f3c962c6"
      },
      "execution_count": 42,
      "outputs": [
        {
          "output_type": "stream",
          "name": "stdout",
          "text": [
            "Requirement already satisfied: nltk in /usr/local/lib/python3.11/dist-packages (3.9.1)\n",
            "Requirement already satisfied: click in /usr/local/lib/python3.11/dist-packages (from nltk) (8.1.8)\n",
            "Requirement already satisfied: joblib in /usr/local/lib/python3.11/dist-packages (from nltk) (1.4.2)\n",
            "Requirement already satisfied: regex>=2021.8.3 in /usr/local/lib/python3.11/dist-packages (from nltk) (2024.11.6)\n",
            "Requirement already satisfied: tqdm in /usr/local/lib/python3.11/dist-packages (from nltk) (4.67.1)\n"
          ]
        },
        {
          "output_type": "stream",
          "name": "stderr",
          "text": [
            "[nltk_data] Downloading package punkt to /root/nltk_data...\n",
            "[nltk_data]   Unzipping tokenizers/punkt.zip.\n"
          ]
        }
      ]
    },
    {
      "cell_type": "code",
      "source": [
        "# ======================\n",
        "# 📚 2. DATA PREP\n",
        "# ======================\n",
        "def read_data(file_path):\n",
        "    with open(file_path, encoding='utf-8') as f:\n",
        "        lines = f.read().strip().split('\\n')\n",
        "    pairs = [line.split('\\t')[:2] for line in lines if '\\t' in line]\n",
        "    return pairs\n",
        "\n",
        "def tokenize(text):\n",
        "    text = text.lower()\n",
        "    text = re.sub(r\"[^a-zA-Zñáéíóúüç¿¡ ]+\", \"\", text)\n",
        "    return text.strip().split()\n",
        "\n",
        "class Vocab:\n",
        "    def __init__(self, sentences, min_freq=2):\n",
        "        self.freq = Counter()\n",
        "        for sentence in sentences:\n",
        "            self.freq.update(sentence)\n",
        "\n",
        "        self.pad = '<pad>'\n",
        "        self.sos = '<sos>'\n",
        "        self.eos = '<eos>'\n",
        "        self.unk = '<unk>'\n",
        "\n",
        "        self.itos = [self.pad, self.sos, self.eos, self.unk] + [w for w, c in self.freq.items() if c >= min_freq]\n",
        "        self.stoi = {w: i for i, w in enumerate(self.itos)}\n",
        "\n",
        "    def numericalize(self, tokens):\n",
        "        return [self.stoi.get(token, self.stoi[self.unk]) for token in tokens]\n",
        "\n",
        "    def denumericalize(self, indices):\n",
        "        return [self.itos[i] for i in indices if i not in (self.stoi[self.pad],)]\n",
        "\n",
        "    def __len__(self):\n",
        "        return len(self.itos)\n"
      ],
      "metadata": {
        "id": "ovUXBPgMbuGE"
      },
      "execution_count": 43,
      "outputs": []
    },
    {
      "cell_type": "code",
      "source": [
        "# ======================\n",
        "# 📦 3. DATASET & DATALOADER\n",
        "# ======================\n",
        "class TranslationDataset(Dataset):\n",
        "    def __init__(self, pairs, src_vocab, trg_vocab):\n",
        "        self.data = []\n",
        "        for src, trg in pairs:\n",
        "            src_tokens = tokenize(src)\n",
        "            trg_tokens = tokenize(trg)\n",
        "            src_ids = src_vocab.numericalize(src_tokens)\n",
        "            trg_ids = [trg_vocab.stoi['<sos>']] + trg_vocab.numericalize(trg_tokens) + [trg_vocab.stoi['<eos>']]\n",
        "            self.data.append((src_ids, trg_ids))\n",
        "\n",
        "    def __len__(self):\n",
        "        return len(self.data)\n",
        "\n",
        "    def __getitem__(self, idx):\n",
        "        return self.data[idx]\n",
        "\n",
        "def collate_fn(batch):\n",
        "    src_batch, trg_batch = zip(*batch)\n",
        "    src_max_len = max(len(x) for x in src_batch)\n",
        "    trg_max_len = max(len(x) for x in trg_batch)\n",
        "\n",
        "    src_padded = [x + [src_vocab.stoi['<pad>']] * (src_max_len - len(x)) for x in src_batch]\n",
        "    trg_padded = [x + [trg_vocab.stoi['<pad>']] * (trg_max_len - len(x)) for x in trg_batch]\n",
        "\n",
        "    return torch.tensor(src_padded), torch.tensor(trg_padded)\n"
      ],
      "metadata": {
        "id": "mncswdhVb00F"
      },
      "execution_count": 44,
      "outputs": []
    },
    {
      "cell_type": "code",
      "source": [
        "# ======================\n",
        "# 🧠 4. ENCODER\n",
        "# ======================\n",
        "class Encoder(nn.Module):\n",
        "    def __init__(self, input_dim, emb_dim, hid_dim):\n",
        "        super().__init__()\n",
        "        self.embedding = nn.Embedding(input_dim, emb_dim)\n",
        "        self.lstm = nn.LSTM(emb_dim, hid_dim, batch_first=True)\n",
        "\n",
        "    def forward(self, src):\n",
        "        embedded = self.embedding(src)\n",
        "        outputs, (hidden, cell) = self.lstm(embedded)\n",
        "        return outputs, hidden, cell\n"
      ],
      "metadata": {
        "id": "Y4IcxIoeb5q6"
      },
      "execution_count": 45,
      "outputs": []
    },
    {
      "cell_type": "code",
      "source": [
        "# ======================\n",
        "# 🧠 5. BAHDAANAU ATTENTION\n",
        "# ======================\n",
        "class BahdanauAttention(nn.Module):\n",
        "    def __init__(self, hid_dim):\n",
        "        super().__init__()\n",
        "        self.W1 = nn.Linear(hid_dim, hid_dim)\n",
        "        self.W2 = nn.Linear(hid_dim, hid_dim)\n",
        "        self.V = nn.Linear(hid_dim, 1)\n",
        "\n",
        "    def forward(self, hidden, encoder_outputs):\n",
        "        # hidden: [batch, hidden]\n",
        "        # encoder_outputs: [batch, src_len, hidden]\n",
        "        hidden = hidden.unsqueeze(1)  # [batch, 1, hidden]\n",
        "        score = self.V(torch.tanh(self.W1(encoder_outputs) + self.W2(hidden)))  # [batch, src_len, 1]\n",
        "        attn_weights = torch.softmax(score, dim=1)  # [batch, src_len, 1]\n",
        "        context = torch.sum(attn_weights * encoder_outputs, dim=1)  # [batch, hidden]\n",
        "        return context, attn_weights.squeeze(2)\n"
      ],
      "metadata": {
        "id": "LzF4q_-jb82i"
      },
      "execution_count": 46,
      "outputs": []
    },
    {
      "cell_type": "code",
      "source": [
        "# ======================\n",
        "# 🧠 6. DECODER + ATTENTION\n",
        "# ======================\n",
        "class Decoder(nn.Module):\n",
        "    def __init__(self, output_dim, emb_dim, hid_dim, attention):\n",
        "        super().__init__()\n",
        "        self.output_dim = output_dim\n",
        "        self.embedding = nn.Embedding(output_dim, emb_dim)\n",
        "        self.attention = attention\n",
        "        self.lstm = nn.LSTM(emb_dim + hid_dim, hid_dim, batch_first=True)\n",
        "        self.fc = nn.Linear(hid_dim, output_dim)\n",
        "\n",
        "    def forward(self, input, hidden, cell, encoder_outputs):\n",
        "        input = input.unsqueeze(1)\n",
        "        embedded = self.embedding(input)\n",
        "        context, attn_weights = self.attention(hidden[-1], encoder_outputs)\n",
        "        context = context.unsqueeze(1)\n",
        "        lstm_input = torch.cat((embedded, context), dim=2)\n",
        "        output, (hidden, cell) = self.lstm(lstm_input, (hidden, cell))\n",
        "        prediction = self.fc(output.squeeze(1))\n",
        "        return prediction, hidden, cell, attn_weights\n"
      ],
      "metadata": {
        "id": "CTyNF8VccDG4"
      },
      "execution_count": 47,
      "outputs": []
    },
    {
      "cell_type": "code",
      "source": [
        "# ======================\n",
        "# 🧠 7. SEQ2SEQ WRAPPER\n",
        "# ======================\n",
        "class Seq2Seq(nn.Module):\n",
        "    def __init__(self, encoder, decoder, trg_pad_idx):\n",
        "        super().__init__()\n",
        "        self.encoder = encoder\n",
        "        self.decoder = decoder\n",
        "        self.trg_pad_idx = trg_pad_idx\n",
        "\n",
        "    def forward(self, src, trg, teacher_forcing_ratio=0.5):\n",
        "        batch_size, trg_len = trg.shape\n",
        "        trg_vocab_size = self.decoder.output_dim\n",
        "        outputs = torch.zeros(batch_size, trg_len, trg_vocab_size).to(device)\n",
        "\n",
        "        encoder_outputs, hidden, cell = self.encoder(src)\n",
        "        input = trg[:, 0]\n",
        "\n",
        "        for t in range(1, trg_len):\n",
        "            output, hidden, cell, _ = self.decoder(input, hidden, cell, encoder_outputs)\n",
        "            outputs[:, t] = output\n",
        "            teacher_force = random.random() < teacher_forcing_ratio\n",
        "            input = trg[:, t] if teacher_force else output.argmax(1)\n",
        "\n",
        "        return outputs\n"
      ],
      "metadata": {
        "id": "lvwLGMKhcHHs"
      },
      "execution_count": 48,
      "outputs": []
    },
    {
      "cell_type": "code",
      "source": [
        "# ======================\n",
        "# 🎯 8. TRAINING LOOP\n",
        "# ======================\n",
        "def train(model, iterator, optimizer, criterion, clip=1):\n",
        "    model.train()\n",
        "    total_loss = 0\n",
        "\n",
        "    for src, trg in iterator:\n",
        "        src, trg = src.to(device), trg.to(device)\n",
        "        optimizer.zero_grad()\n",
        "        output = model(src, trg)\n",
        "        output_dim = output.shape[-1]\n",
        "\n",
        "        output = output[:, 1:].reshape(-1, output_dim)\n",
        "        trg = trg[:, 1:].reshape(-1)\n",
        "\n",
        "        loss = criterion(output, trg)\n",
        "        loss.backward()\n",
        "        torch.nn.utils.clip_grad_norm_(model.parameters(), clip)\n",
        "        optimizer.step()\n",
        "        total_loss += loss.item()\n",
        "\n",
        "    return total_loss / len(iterator)\n"
      ],
      "metadata": {
        "id": "OncYK45bcLKV"
      },
      "execution_count": 49,
      "outputs": []
    },
    {
      "cell_type": "code",
      "source": [
        "# ======================\n",
        "# 🧪 9. BLEU EVALUATION\n",
        "# ======================\n",
        "def evaluate_bleu(model, dataset, src_vocab, trg_vocab, max_len=20):\n",
        "    model.eval()\n",
        "    smoothie = SmoothingFunction().method4\n",
        "    total_score = 0\n",
        "    count = 0\n",
        "\n",
        "    with torch.no_grad():\n",
        "        for src, trg in dataset:\n",
        "            src_tensor = torch.tensor([src]).to(device)\n",
        "            encoder_outputs, hidden, cell = model.encoder(src_tensor)\n",
        "            input_token = torch.tensor([trg_vocab.stoi['<sos>']]).to(device)\n",
        "            result = []\n",
        "\n",
        "            for _ in range(max_len):\n",
        "                output, hidden, cell, _ = model.decoder(input_token, hidden, cell, encoder_outputs)\n",
        "                top1 = output.argmax(1)\n",
        "                if top1.item() == trg_vocab.stoi['<eos>']:\n",
        "                    break\n",
        "                result.append(top1.item())\n",
        "                input_token = top1\n",
        "\n",
        "            pred_tokens = trg_vocab.denumericalize(result)\n",
        "            reference_tokens = trg_vocab.denumericalize(trg[1:-1])\n",
        "            score = sentence_bleu([reference_tokens], pred_tokens, smoothing_function=smoothie)\n",
        "            total_score += score\n",
        "            count += 1\n",
        "\n",
        "    return total_score / count\n"
      ],
      "metadata": {
        "id": "c2nV1QpwcL1B"
      },
      "execution_count": 50,
      "outputs": []
    },
    {
      "cell_type": "code",
      "source": [
        "# ======================\n",
        "# 📊 10. ATTENTION VISUALIZATION\n",
        "# ======================\n",
        "def show_attention(attn_weights, input_tokens, output_tokens):\n",
        "    fig = plt.figure(figsize=(8, 6))\n",
        "    sns.heatmap(attn_weights[:len(output_tokens), :len(input_tokens)], xticklabels=input_tokens, yticklabels=output_tokens, cmap='viridis')\n",
        "    plt.xlabel(\"Input\")\n",
        "    plt.ylabel(\"Output\")\n",
        "    plt.show()\n"
      ],
      "metadata": {
        "id": "RR_D199DcPQo"
      },
      "execution_count": 57,
      "outputs": []
    },
    {
      "cell_type": "code",
      "source": [
        "# ======================\n",
        "# 🚀 11. RUN EVERYTHING\n",
        "# ======================\n",
        "# Load dataset\n",
        "raw_pairs = read_data(\"/content/spa.txt\")\n",
        "train_pairs, val_pairs = train_test_split(raw_pairs, test_size=0.1)\n",
        "\n",
        "src_vocab = Vocab([tokenize(p[0]) for p in train_pairs])\n",
        "trg_vocab = Vocab([tokenize(p[1]) for p in train_pairs])\n",
        "\n",
        "train_dataset = TranslationDataset(train_pairs, src_vocab, trg_vocab)\n",
        "train_loader = DataLoader(train_dataset, batch_size=32, shuffle=True, collate_fn=collate_fn)\n",
        "\n",
        "# Model setup\n",
        "INPUT_DIM = len(src_vocab)\n",
        "OUTPUT_DIM = len(trg_vocab)\n",
        "EMB_DIM = 256\n",
        "HID_DIM = 512\n",
        "\n",
        "attention = BahdanauAttention(HID_DIM)\n",
        "encoder = Encoder(INPUT_DIM, EMB_DIM, HID_DIM)\n",
        "decoder = Decoder(OUTPUT_DIM, EMB_DIM, HID_DIM, attention)\n",
        "model = Seq2Seq(encoder, decoder, trg_pad_idx=trg_vocab.stoi['<pad>']).to(device)\n",
        "\n",
        "optimizer = optim.Adam(model.parameters())\n",
        "criterion = nn.CrossEntropyLoss(ignore_index=trg_vocab.stoi['<pad>'])\n",
        "\n",
        "# Train\n",
        "for epoch in range(10):\n",
        "    loss = train(model, train_loader, optimizer, criterion)\n",
        "    print(f\"Epoch {epoch+1}, Loss: {loss:.4f}\")\n"
      ],
      "metadata": {
        "colab": {
          "base_uri": "https://localhost:8080/"
        },
        "id": "FVQ-IKP9cSrF",
        "outputId": "5159884b-10f1-4cf1-c62a-948e86a3bd75"
      },
      "execution_count": 52,
      "outputs": [
        {
          "output_type": "stream",
          "name": "stdout",
          "text": [
            "Epoch 1, Loss: 4.1468\n",
            "Epoch 2, Loss: 2.4784\n",
            "Epoch 3, Loss: 1.8610\n",
            "Epoch 4, Loss: 1.5162\n",
            "Epoch 5, Loss: 1.2965\n",
            "Epoch 6, Loss: 1.1401\n",
            "Epoch 7, Loss: 1.0190\n",
            "Epoch 8, Loss: 0.9154\n",
            "Epoch 9, Loss: 0.8356\n",
            "Epoch 10, Loss: 0.7708\n"
          ]
        }
      ]
    },
    {
      "cell_type": "code",
      "source": [
        "# Train\n",
        "for epoch in range(10):\n",
        "    loss = train(model, train_loader, optimizer, criterion)\n",
        "    print(f\"Epoch {epoch+1}, Loss: {loss:.4f}\")"
      ],
      "metadata": {
        "colab": {
          "base_uri": "https://localhost:8080/"
        },
        "id": "gQ91AG5Llxoh",
        "outputId": "2ba24351-7d50-4428-d438-f8bbb42b19d1"
      },
      "execution_count": 56,
      "outputs": [
        {
          "output_type": "stream",
          "name": "stdout",
          "text": [
            "Epoch 1, Loss: 0.7108\n",
            "Epoch 2, Loss: 0.6612\n",
            "Epoch 3, Loss: 0.6236\n",
            "Epoch 4, Loss: 0.5883\n",
            "Epoch 5, Loss: 0.5553\n",
            "Epoch 6, Loss: 0.5250\n",
            "Epoch 7, Loss: 0.5059\n",
            "Epoch 8, Loss: 0.4885\n",
            "Epoch 9, Loss: 0.4723\n",
            "Epoch 10, Loss: 0.4603\n"
          ]
        }
      ]
    },
    {
      "cell_type": "code",
      "source": [
        "# Evaluate BLEU score\n",
        "val_dataset = TranslationDataset(val_pairs, src_vocab, trg_vocab)\n",
        "bleu_score = evaluate_bleu(model, val_dataset, src_vocab, trg_vocab)\n",
        "print(f\"\\nAverage BLEU Score on Validation Set: {bleu_score*100:.4f}\")\n"
      ],
      "metadata": {
        "colab": {
          "base_uri": "https://localhost:8080/"
        },
        "id": "l0LAhTZvliCL",
        "outputId": "06aec46f-2153-4e4b-83c6-dc56b0ef06ff"
      },
      "execution_count": 60,
      "outputs": [
        {
          "output_type": "stream",
          "name": "stdout",
          "text": [
            "\n",
            "Average BLEU Score on Validation Set: 78.1200\n"
          ]
        }
      ]
    },
    {
      "cell_type": "code",
      "source": [
        "# Visualize attention on one example\n",
        "def visualize_sample(index=0):\n",
        "    model.eval()\n",
        "    src, trg = val_dataset[index]\n",
        "    src_tensor = torch.tensor([src]).to(device)\n",
        "    encoder_outputs, hidden, cell = model.encoder(src_tensor)\n",
        "    input_token = torch.tensor([trg_vocab.stoi['<sos>']]).to(device)\n",
        "\n",
        "    result = []\n",
        "    attentions = []\n",
        "\n",
        "    with torch.no_grad():\n",
        "        for _ in range(20):\n",
        "            output, hidden, cell, attn = model.decoder(input_token, hidden, cell, encoder_outputs)\n",
        "            top1 = output.argmax(1)\n",
        "            if top1.item() == trg_vocab.stoi['<eos>']:\n",
        "                break\n",
        "            result.append(top1.item())\n",
        "            attentions.append(attn.squeeze(0).cpu().numpy())\n",
        "            input_token = top1\n",
        "\n",
        "    pred_tokens = trg_vocab.denumericalize(result)\n",
        "    input_tokens = src_vocab.denumericalize(src)\n",
        "\n",
        "    attn_matrix = np.stack(attentions)  # [tgt_len, src_len]\n",
        "    show_attention(attn_matrix, input_tokens, pred_tokens)\n",
        "\n",
        "# Call to visualize\n",
        "visualize_sample(index=0)\n"
      ],
      "metadata": {
        "colab": {
          "base_uri": "https://localhost:8080/",
          "height": 542
        },
        "id": "5kujHLJPlixn",
        "outputId": "f2db9b4b-1c8c-42a3-a9d7-4e4c520663aa"
      },
      "execution_count": 58,
      "outputs": [
        {
          "output_type": "display_data",
          "data": {
            "text/plain": [
              "<Figure size 800x600 with 2 Axes>"
            ],
            "image/png": "[encoded data removed]"
          },
          "metadata": {}
        }
      ]
    }
  ]
}